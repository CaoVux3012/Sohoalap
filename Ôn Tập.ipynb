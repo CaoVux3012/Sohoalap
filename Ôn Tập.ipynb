{
 "cells": [
  {
   "cell_type": "markdown",
   "metadata": {},
   "source": [
    "# BÀI ÔN TẬP THI CUỐI HỌC KỲ"
   ]
  },
  {
   "cell_type": "markdown",
   "metadata": {},
   "source": [
    "## 1. Tạo bộ dữ liệu\n",
    "\n",
    "Bộ dữ liệu về thông tin khách hàng mua sắm bao gồm các cột:\n",
    "- **ID**: Mã khách hàng (số nguyên, không thiếu).\n",
    "- **Age**: Tuổi (số nguyên, một số giá trị thiếu).\n",
    "- **Income**: Thu nhập hàng năm (USD, một số giá trị thiếu).\n",
    "- **Spending_Score**: Điểm chi tiêu (0-100, một số giá trị thiếu).\n",
    "- **Purchased**: Đã mua hàng hay chưa (0 = không, 1 = có, nhãn cần dự đoán).\n",
    "\n",
    "Dữ liệu mẫu:\n",
    "\n",
    "| ID  | Age | Income | Spending_Score | Purchased |\n",
    "|-----|-----|--------|----------------|-----------|\n",
    "| 1   | 25  | 30000  | 45             | 0         |\n",
    "| 2   |     | 45000  | 60             | 1         |\n",
    "| 3   | 30  |        | 70             | 1         |\n",
    "| 4   | 45  | 60000  |                | 0         |\n",
    "| 5   | 28  | 35000  | 55             | 1         |\n",
    "| 6   |     | 50000  | 65             | 0         |\n",
    "| 7   | 35  | 70000  | 80             | 1         |\n",
    "| 8   | 50  |        | 40             | 0         |\n",
    "| 9   | 22  | 25000  |                | 1         |\n",
    "| 10  | 40  | 80000  | 90             | 1         |\n",
    "| 11  | 33  | 55000  | 50             | 0         |\n",
    "| 12  |     | 40000  | 75             | 1         |\n",
    "| 13  | 27  | 65000  |                | 0         |\n",
    "| 14  | 48  |        | 85             | 1         |\n",
    "| 15  | 29  | 32000  | 60             | 0         |\n",
    "| 16  | 38  | 72000  | 70             | 1         |\n",
    "| 17  |     | 48000  | 45             | 0         |\n",
    "| 18  | 42  | 58000  |                | 1         |\n",
    "| 19  | 31  | 36000  | 55             | 0         |\n",
    "| 20  | 46  |        | 95             | 1         |\n",
    "| 21  | 24  | 29000  | 65             | 0         |\n",
    "| 22  | 37  | 67000  | 75             | 1         |\n",
    "| 23  |     | 43000  | 50             | 0         |\n",
    "| 24  | 49  | 78000  |                | 1         |\n",
    "| 25  | 26  | 31000  | 85             | 0         |\n",
    "| 26  | 34  |        | 60             | 1         |\n",
    "| 27  | 41  | 62000  | 70             | 0         |\n",
    "| 28  | 23  | 27000  |                | 1         |\n",
    "| 29  |     | 53000  | 80             | 0         |\n",
    "| 30  | 47  | 74000  | 90             | 1         |\n",
    "| 31  | 32  | 39000  | 45             | 0         |\n",
    "| 32  | 39  |        | 55             | 1         |\n",
    "| 33  | 28  | 46000  | 65             | 0         |\n",
    "| 34  | 44  | 69000  |                | 1         |\n",
    "| 35  |     | 34000  | 75             | 0         |\n",
    "| 36  | 36  | 57000  | 85             | 1         |\n",
    "| 37  | 25  | 28000  | 50             | 0         |\n",
    "| 38  | 50  |        | 95             | 1         |\n",
    "| 39  | 31  | 41000  | 60             | 0         |\n",
    "| 40  | 43  | 76000  |                | 1         |\n",
    "| 41  |     | 33000  | 70             | 0         |\n",
    "| 42  | 29  | 59000  | 80             | 1         |\n",
    "| 43  | 35  | 47000  | 45             | 0         |\n",
    "| 44  | 48  |        | 55             | 1         |\n",
    "| 45  | 27  | 37000  | 65             | 0         |\n",
    "| 46  | 40  | 68000  |                | 1         |\n",
    "| 47  | 33  | 52000  | 75             | 0         |\n",
    "| 48  |     | 30000  | 85             | 1         |\n",
    "| 49  | 46  | 71000  | 90             | 0         |\n",
    "| 50  | 24  |        | 50             | 1         |"
   ]
  },
  {
   "cell_type": "code",
   "execution_count": 1,
   "metadata": {},
   "outputs": [
    {
     "ename": "SyntaxError",
     "evalue": "invalid syntax (3316729436.py, line 7)",
     "output_type": "error",
     "traceback": [
      "\u001b[1;36m  Cell \u001b[1;32mIn[1], line 7\u001b[1;36m\u001b[0m\n\u001b[1;33m    'Age': #code here\u001b[0m\n\u001b[1;37m         ^\u001b[0m\n\u001b[1;31mSyntaxError\u001b[0m\u001b[1;31m:\u001b[0m invalid syntax\n"
     ]
    }
   ],
   "source": [
    "import pandas as pd\n",
    "import numpy as np\n",
    "\n",
    "# Tạo dữ liệu 50 dòng\n",
    "data = {\n",
    "    'ID': #code here\n",
    "    'Age': #code here\n",
    "    'Income':#code here\n",
    "    'Spending_Score':#code here\n",
    "    'Purchased': #code here\n",
    "}\n",
    "\n",
    "# Tạo DataFrame\n",
    "df = #code here\n",
    "\n",
    "# Lưu thành file CSV\n",
    "df.to_csv('customer_data.csv', index=False)\n",
    "print(df.head(10))"
   ]
  },
  {
   "cell_type": "markdown",
   "metadata": {},
   "source": [
    "1. Tải dữ liệu từ file CSV.\n",
    "2. Xem thông tin tổng quan (số dòng, cột, kiểu dữ liệu).\n",
    "3. Đếm giá trị thiếu trong mỗi cột.\n",
    "4. Thống kê cơ bản (trung bình, trung vị, min, max).\n",
    "5. Phân bố nhãn `Purchased`."
   ]
  },
  {
   "cell_type": "code",
   "execution_count": null,
   "metadata": {},
   "outputs": [],
   "source": [
    "#code here"
   ]
  },
  {
   "cell_type": "markdown",
   "metadata": {},
   "source": [
    "6. Xóa dòng có giá trị thiếu.\n",
    "7. Điền NaN trong `Age` bằng trung bình.\n",
    "8. Điền NaN trong `Income` bằng trung vị.\n",
    "9. Điền NaN trong `Spending_Score` bằng mode.\n",
    "10. Điền NaN bằng 0."
   ]
  },
  {
   "cell_type": "code",
   "execution_count": null,
   "metadata": {},
   "outputs": [],
   "source": [
    "#code here"
   ]
  },
  {
   "cell_type": "markdown",
   "metadata": {},
   "source": [
    "11. Chuẩn hóa Min-Max cho `Income` và `Spending_Score`.\n",
    "12. Chuẩn hóa Z-score cho `Age` và `Income`.\n",
    "13. Tạo cột `Income_per_Age`.\n",
    "14. Đảm bảo `Purchased` là kiểu số.\n",
    "15. Loại bỏ ngoại lệ `Income` > 100,000."
   ]
  },
  {
   "cell_type": "code",
   "execution_count": null,
   "metadata": {},
   "outputs": [],
   "source": [
    "#code here"
   ]
  },
  {
   "cell_type": "markdown",
   "metadata": {},
   "source": [
    "16. Tính ma trận tương quan.\n",
    "17. Vẽ biểu đồ phân tán `Income` vs `Spending_Score`.\n",
    "18. Vẽ histogram cho `Age`.\n",
    "19. Vẽ boxplot cho `Income`.\n",
    "20. So sánh trung bình `Spending_Score` theo `Purchased`."
   ]
  },
  {
   "cell_type": "code",
   "execution_count": null,
   "metadata": {},
   "outputs": [],
   "source": [
    "#code here"
   ]
  },
  {
   "cell_type": "markdown",
   "metadata": {},
   "source": [
    "Ứng dụng ANN để dự đoán\n",
    "\n",
    "Chúng ta sẽ xây dựng một mạng nơ-ron nhân tạo để dự đoán `Purchased` dựa trên `Age`, `Income`, và `Spending_Score`."
   ]
  },
  {
   "cell_type": "code",
   "execution_count": null,
   "metadata": {},
   "outputs": [],
   "source": [
    "import pandas as pd\n",
    "import numpy as np\n",
    "import torch\n",
    "import torch.nn as nn\n",
    "import torch.optim as optim\n",
    "from sklearn.model_selection import train_test_split\n",
    "from sklearn.preprocessing import StandardScaler\n",
    "\n",
    "# 1. Chuẩn bị dữ liệu\n",
    "# Tải dữ liệu từ file CSV (giả sử đã xử lý NaN)\n",
    "df = \n",
    "\n",
    "# Điền NaN bằng trung bình (nếu chưa xử lý)\n",
    "\n",
    "\n",
    "\n",
    "\n",
    "# Tách đặc trưng (X) và nhãn (y)\n",
    "X = \n",
    "y = \n",
    "\n",
    "# Chuẩn hóa dữ liệu\n",
    "scaler = \n",
    "X = \n",
    "\n",
    "# Chia tập train/test (80% and 20%)\n",
    "X_train, X_test, y_train, y_test = \n",
    "\n",
    "# Chuyển dữ liệu sang tensor của PyTorch\n",
    "X_train = \n",
    "X_test = \n",
    "y_train =   # Reshape để phù hợp với đầu ra\n",
    "y_test = "
   ]
  },
  {
   "cell_type": "code",
   "execution_count": null,
   "metadata": {},
   "outputs": [],
   "source": [
    "# Bước 2: Xây dựng mô hình ANN\n",
    "# 2. Định nghĩa mô hình ANN\n",
    "class ANN(nn.Module):\n",
    "    def __init__(self, input_size):\n",
    "        super(ANN, self).__init__()\n",
    "        self.layers = \n",
    "              # Lớp ẩn 1: 16 nơ-ron\n",
    "            \n",
    "                 # Lớp ẩn 2: 8 nơ-ron\n",
    "            \n",
    "                   # Lớp đầu ra: 1 nơ-ron\n",
    "                      # Hàm kích hoạt sigmoid cho phân loại nhị phân\n",
    "        )\n",
    "    \n",
    "    def forward(self, x):\n",
    "        return self.layers(x)"
   ]
  },
  {
   "cell_type": "code",
   "execution_count": null,
   "metadata": {},
   "outputs": [],
   "source": [
    "# Khởi tạo mô hình\n",
    "input_size =  #Số đặc trưng (3)\n",
    "model = \n",
    "print(model)"
   ]
  },
  {
   "cell_type": "code",
   "execution_count": null,
   "metadata": {},
   "outputs": [],
   "source": [
    "\n",
    "# 3. Định nghĩa hàm mất mát và tối ưu hóa\n",
    "criterion =  # Binary Cross Entropy Loss\n",
    "optimizer = optim.Adam(model.parameters(), lr=0.01)\n",
    "\n",
    "# Huấn luyện mô hình\n",
    "num_epochs = 50\n",
    "for epoch in range(num_epochs):\n",
    "    model.train()\n",
    "    \n",
    "    # Forward pass\n",
    "    outputs = \n",
    "    loss = \n",
    "    \n",
    "    # Backward pass và tối ưu hóa\n",
    "    \n",
    "    \n",
    "    \n",
    "    \n",
    "    # In loss mỗi 10 epochs\n",
    "    if (epoch + 1) % 10 == 0:\n",
    "        print(f'Epoch [{epoch+1}/{num_epochs}], Loss: {loss.item():.4f}')"
   ]
  },
  {
   "cell_type": "code",
   "execution_count": null,
   "metadata": {},
   "outputs": [],
   "source": [
    "# 4. Đánh giá mô hình\n",
    "model.eval()\n",
    "with torch.no_grad():\n",
    "    y_pred = \n",
    "    y_pred_class =   # Chuyển thành 0 hoặc 1\n",
    "    accuracy = (y_pred_class.eq(y_test).sum() / float(y_test.shape[0])).item()\n",
    "    print(f'Accuracy trên tập kiểm tra: {accuracy:.4f}')\n",
    "\n",
    "    # In một số dự đoán mẫu\n",
    "    print(\"Dự đoán mẫu (5 dòng đầu tiên):\")\n",
    "    print(y_pred_class[:5].numpy())\n",
    "    print(\"Nhãn thực tế:\")\n",
    "    print(y_test[:5].numpy())"
   ]
  }
 ],
 "metadata": {
  "kernelspec": {
   "display_name": "Python 3",
   "language": "python",
   "name": "python3"
  },
  "language_info": {
   "codemirror_mode": {
    "name": "ipython",
    "version": 3
   },
   "file_extension": ".py",
   "mimetype": "text/x-python",
   "name": "python",
   "nbconvert_exporter": "python",
   "pygments_lexer": "ipython3",
   "version": "3.10.8"
  }
 },
 "nbformat": 4,
 "nbformat_minor": 2
}
